{
 "cells": [
  {
   "cell_type": "code",
   "execution_count": 11,
   "metadata": {},
   "outputs": [],
   "source": [
    "from qiskit import QuantumCircuit, ClassicalRegister, QuantumRegister\n",
    "from qiskit import available_backends, register, execute"
   ]
  },
  {
   "cell_type": "code",
   "execution_count": 14,
   "metadata": {},
   "outputs": [],
   "source": [
    "with open('api_key', 'r') as f:\n",
    "    api_key = f.read().strip()\n",
    "\n",
    "register(api_key, 'https://quantumexperience.ng.bluemix.net/api')"
   ]
  },
  {
   "cell_type": "code",
   "execution_count": 17,
   "metadata": {},
   "outputs": [
    {
     "name": "stderr",
     "output_type": "stream",
     "text": [
      "WARNING:IBMQuantumExperience.IBMQuantumExperience:Got a 403 code response to https://quantumexperience.ng.bluemix.net/api/Jobs?access_token=n1s6dEmdeAfKtG6gAP1vshTFEDr0ld5s8LqT0KV8INjSWeGviNiA6sHpDuE4rJyD: {\"error\":{\"status\":403,\"message\":\"Your credits are not enough. 3 credits are needed to launch this job but you only have 2 credits remaining.\",\"code\":\"MAX_CREDITS_EXCEEDED\",\"statusCode\":403}}\n",
      "WARNING:IBMQuantumExperience.IBMQuantumExperience:Got a 403 code response to https://quantumexperience.ng.bluemix.net/api/Jobs?access_token=n1s6dEmdeAfKtG6gAP1vshTFEDr0ld5s8LqT0KV8INjSWeGviNiA6sHpDuE4rJyD: {\"error\":{\"status\":403,\"message\":\"Your credits are not enough. 3 credits are needed to launch this job but you only have 2 credits remaining.\",\"code\":\"MAX_CREDITS_EXCEEDED\",\"statusCode\":403}}\n",
      "WARNING:IBMQuantumExperience.IBMQuantumExperience:Got a 403 code response to https://quantumexperience.ng.bluemix.net/api/Jobs?access_token=n1s6dEmdeAfKtG6gAP1vshTFEDr0ld5s8LqT0KV8INjSWeGviNiA6sHpDuE4rJyD: {\"error\":{\"status\":403,\"message\":\"Your credits are not enough. 3 credits are needed to launch this job but you only have 2 credits remaining.\",\"code\":\"MAX_CREDITS_EXCEEDED\",\"statusCode\":403}}\n",
      "WARNING:IBMQuantumExperience.IBMQuantumExperience:Got a 403 code response to https://quantumexperience.ng.bluemix.net/api/Jobs?access_token=n1s6dEmdeAfKtG6gAP1vshTFEDr0ld5s8LqT0KV8INjSWeGviNiA6sHpDuE4rJyD: {\"error\":{\"status\":403,\"message\":\"Your credits are not enough. 3 credits are needed to launch this job but you only have 2 credits remaining.\",\"code\":\"MAX_CREDITS_EXCEEDED\",\"statusCode\":403}}\n",
      "WARNING:IBMQuantumExperience.IBMQuantumExperience:Got a 403 code response to https://quantumexperience.ng.bluemix.net/api/Jobs?access_token=n1s6dEmdeAfKtG6gAP1vshTFEDr0ld5s8LqT0KV8INjSWeGviNiA6sHpDuE4rJyD: {\"error\":{\"status\":403,\"message\":\"Your credits are not enough. 3 credits are needed to launch this job but you only have 2 credits remaining.\",\"code\":\"MAX_CREDITS_EXCEEDED\",\"statusCode\":403}}\n"
     ]
    },
    {
     "name": "stdout",
     "output_type": "stream",
     "text": [
      "ERROR\n"
     ]
    },
    {
     "ename": "QISKitError",
     "evalue": "'\"{\\'status\\': 403, \\'message\\': \\'Your credits are not enough. 3 credits are needed to launch this job but you only have 2 credits remaining.\\', \\'code\\': \\'MAX_CREDITS_EXCEEDED\\', \\'statusCode\\': 403}\"'",
     "output_type": "error",
     "traceback": [
      "\u001b[0;31m---------------------------------------------------------------------------\u001b[0m",
      "\u001b[0;31mQISKitError\u001b[0m                               Traceback (most recent call last)",
      "\u001b[0;32m<ipython-input-17-dac6aeab722d>\u001b[0m in \u001b[0;36m<module>\u001b[0;34m()\u001b[0m\n\u001b[1;32m     23\u001b[0m \u001b[0;31m# Show the results\u001b[0m\u001b[0;34m\u001b[0m\u001b[0;34m\u001b[0m\u001b[0m\n\u001b[1;32m     24\u001b[0m \u001b[0mprint\u001b[0m\u001b[0;34m(\u001b[0m\u001b[0mresult\u001b[0m\u001b[0;34m)\u001b[0m\u001b[0;34m\u001b[0m\u001b[0m\n\u001b[0;32m---> 25\u001b[0;31m \u001b[0mprint\u001b[0m\u001b[0;34m(\u001b[0m\u001b[0mresult\u001b[0m\u001b[0;34m.\u001b[0m\u001b[0mget_data\u001b[0m\u001b[0;34m(\u001b[0m\u001b[0;34m)\u001b[0m\u001b[0;34m)\u001b[0m\u001b[0;34m\u001b[0m\u001b[0m\n\u001b[0m",
      "\u001b[0;32m~/qiskit-playground/.venv/lib/python3.6/site-packages/qiskit/_result.py\u001b[0m in \u001b[0;36mget_data\u001b[0;34m(self, circuit_name)\u001b[0m\n\u001b[1;32m    216\u001b[0m                 \u001b[0;32mraise\u001b[0m \u001b[0mexception\u001b[0m\u001b[0;34m\u001b[0m\u001b[0m\n\u001b[1;32m    217\u001b[0m             \u001b[0;32melse\u001b[0m\u001b[0;34m:\u001b[0m\u001b[0;34m\u001b[0m\u001b[0m\n\u001b[0;32m--> 218\u001b[0;31m                 \u001b[0;32mraise\u001b[0m \u001b[0mQISKitError\u001b[0m\u001b[0;34m(\u001b[0m\u001b[0mstr\u001b[0m\u001b[0;34m(\u001b[0m\u001b[0mexception\u001b[0m\u001b[0;34m)\u001b[0m\u001b[0;34m)\u001b[0m\u001b[0;34m\u001b[0m\u001b[0m\n\u001b[0m\u001b[1;32m    219\u001b[0m         \u001b[0;32mif\u001b[0m \u001b[0misinstance\u001b[0m\u001b[0;34m(\u001b[0m\u001b[0mcircuit_name\u001b[0m\u001b[0;34m,\u001b[0m \u001b[0mQuantumCircuit\u001b[0m\u001b[0;34m)\u001b[0m\u001b[0;34m:\u001b[0m\u001b[0;34m\u001b[0m\u001b[0m\n\u001b[1;32m    220\u001b[0m             \u001b[0mcircuit_name\u001b[0m \u001b[0;34m=\u001b[0m \u001b[0mcircuit_name\u001b[0m\u001b[0;34m.\u001b[0m\u001b[0mname\u001b[0m\u001b[0;34m\u001b[0m\u001b[0m\n",
      "\u001b[0;31mQISKitError\u001b[0m: '\"{\\'status\\': 403, \\'message\\': \\'Your credits are not enough. 3 credits are needed to launch this job but you only have 2 credits remaining.\\', \\'code\\': \\'MAX_CREDITS_EXCEEDED\\', \\'statusCode\\': 403}\"'"
     ]
    }
   ],
   "source": [
    "# Authenticate with the IBM Q API in order to use online devices.\n",
    "# You need the API Token and the QX URL.\n",
    "\n",
    "# Create a Quantum Register with 2 qubits.\n",
    "q = QuantumRegister(2)\n",
    "# Create a Classical Register with 2 bits.\n",
    "c = ClassicalRegister(2)\n",
    "# Create a Quantum Circuit\n",
    "qc = QuantumCircuit(q, c)\n",
    "\n",
    "# Add a H gate on qubit 0, putting this qubit in superposition.\n",
    "qc.h(q[0])\n",
    "# Add a CX (CNOT) gate on control qubit 0 and target qubit 1, putting\n",
    "# the qubits in a Bell state.\n",
    "qc.cx(q[0], q[1])\n",
    "# Add a Measure gate to see the state.\n",
    "qc.measure(q, c)\n",
    "\n",
    "# Compile and run the Quantum Program on a real device backend\n",
    "job = execute(qc, 'ibmqx4', shots=1024, max_credits=10)\n",
    "result = job.result()\n",
    "\n",
    "# Show the results\n",
    "print(result)\n",
    "print(result.get_data())"
   ]
  },
  {
   "cell_type": "code",
   "execution_count": 19,
   "metadata": {},
   "outputs": [],
   "source": [
    "result = job_exp.result()"
   ]
  },
  {
   "cell_type": "code",
   "execution_count": 21,
   "metadata": {},
   "outputs": [
    {
     "data": {
      "text/plain": [
       "{'time': 20.068830013275146,\n",
       " 'counts': {'00': 435, '01': 72, '10': 58, '11': 459},\n",
       " 'date': '2018-05-17T10:00:23.180Z'}"
      ]
     },
     "execution_count": 21,
     "metadata": {},
     "output_type": "execute_result"
    }
   ],
   "source": [
    "result.get_data()"
   ]
  }
 ],
 "metadata": {
  "kernelspec": {
   "display_name": "Python 3",
   "language": "python",
   "name": "python3"
  },
  "language_info": {
   "codemirror_mode": {
    "name": "ipython",
    "version": 3
   },
   "file_extension": ".py",
   "mimetype": "text/x-python",
   "name": "python",
   "nbconvert_exporter": "python",
   "pygments_lexer": "ipython3",
   "version": "3.6.2"
  }
 },
 "nbformat": 4,
 "nbformat_minor": 2
}
